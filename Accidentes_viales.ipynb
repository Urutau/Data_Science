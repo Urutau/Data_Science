{
  "cells": [
    {
      "cell_type": "markdown",
      "metadata": {
        "id": "view-in-github",
        "colab_type": "text"
      },
      "source": [
        "<a href=\"https://colab.research.google.com/github/Urutau/Data_Science/blob/main/Accidentes_viales.ipynb\" target=\"_parent\"><img src=\"https://colab.research.google.com/assets/colab-badge.svg\" alt=\"Open In Colab\"/></a>"
      ]
    },
    {
      "cell_type": "markdown",
      "metadata": {
        "id": "0xlaL43fKhjw"
      },
      "source": [
        "#Datos abiertos PBA: Defunciones por incidentes viales"
      ]
    },
    {
      "cell_type": "markdown",
      "metadata": {
        "id": "mtCjIXSJ7pg7"
      },
      "source": [
        "##Exploración de dataset\n",
        "Este dataset fue extraído de https://catalogo.datos.gba.gob.ar/dataset/defunciones-por-incidentes-viales, el 21 de enero de 2023."
      ]
    },
    {
      "cell_type": "code",
      "execution_count": null,
      "metadata": {
        "colab": {
          "background_save": true
        },
        "id": "X09_Nlfa711B"
      },
      "outputs": [],
      "source": [
        "#Importación de librerías\n",
        "\n",
        "import pandas as pd\n",
        "import numpy as np\n",
        "import matplotlib as mpl\n",
        "import matplotlib.pyplot as plt\n",
        "import seaborn as sns\n"
      ]
    },
    {
      "cell_type": "code",
      "execution_count": null,
      "metadata": {
        "id": "DqQZn3jD9VKC"
      },
      "outputs": [],
      "source": [
        "#Lectura del csv\n",
        "\n",
        "df = pd.read_csv(\"/content/drive/MyDrive/Colab Notebooks/Datasets/defunciones-incidentes-viales-2017.csv\")\n"
      ]
    },
    {
      "cell_type": "markdown",
      "metadata": {
        "id": "H8odCA3HKvhG"
      },
      "source": [
        "###Dimensiones del dataset"
      ]
    },
    {
      "cell_type": "code",
      "execution_count": null,
      "metadata": {
        "colab": {
          "background_save": true
        },
        "id": "IlVBzsrODj7J",
        "outputId": "e6b6dd58-6351-4a35-f230-58285e0d797c"
      },
      "outputs": [
        {
          "name": "stdout",
          "output_type": "stream",
          "text": [
            "El dataframe cuenta con 1369 registros, y 14 columnas\n"
          ]
        }
      ],
      "source": [
        "print(f'El dataframe cuenta con {df.shape[0]} registros, y {df.shape[1]} columnas')"
      ]
    },
    {
      "cell_type": "markdown",
      "metadata": {
        "id": "_N4iuw1fLXgP"
      },
      "source": [
        "###Encabezados"
      ]
    },
    {
      "cell_type": "code",
      "execution_count": null,
      "metadata": {
        "colab": {
          "background_save": true
        },
        "id": "tbnrMDaLa0gJ",
        "outputId": "8cba450b-3766-40fc-9806-7e0d29484862"
      },
      "outputs": [
        {
          "data": {
            "text/html": [
              "\n",
              "  <div id=\"df-2b512fdc-181e-4476-a2e6-72c522b5620b\">\n",
              "    <div class=\"colab-df-container\">\n",
              "      <div>\n",
              "<style scoped>\n",
              "    .dataframe tbody tr th:only-of-type {\n",
              "        vertical-align: middle;\n",
              "    }\n",
              "\n",
              "    .dataframe tbody tr th {\n",
              "        vertical-align: top;\n",
              "    }\n",
              "\n",
              "    .dataframe thead th {\n",
              "        text-align: right;\n",
              "    }\n",
              "</style>\n",
              "<table border=\"1\" class=\"dataframe\">\n",
              "  <thead>\n",
              "    <tr style=\"text-align: right;\">\n",
              "      <th></th>\n",
              "      <th>fuente_datos</th>\n",
              "      <th>numero_victima</th>\n",
              "      <th>municipio_id</th>\n",
              "      <th>municipio_nombre</th>\n",
              "      <th>fecha_hecho</th>\n",
              "      <th>hora_hecho</th>\n",
              "      <th>momento_hecho</th>\n",
              "      <th>edad</th>\n",
              "      <th>sexo</th>\n",
              "      <th>clase_victima</th>\n",
              "      <th>vehiculo_victima</th>\n",
              "      <th>tipo_via</th>\n",
              "      <th>tipo_incidente</th>\n",
              "      <th>clima</th>\n",
              "    </tr>\n",
              "  </thead>\n",
              "  <tbody>\n",
              "    <tr>\n",
              "      <th>0</th>\n",
              "      <td>Egresos hospitalarios</td>\n",
              "      <td>2-2017-1293</td>\n",
              "      <td>NaN</td>\n",
              "      <td>NaN</td>\n",
              "      <td>2016-12-14</td>\n",
              "      <td>Sin especificar</td>\n",
              "      <td>Sin especificar</td>\n",
              "      <td>75</td>\n",
              "      <td>Masculino</td>\n",
              "      <td>Sin especificar</td>\n",
              "      <td>Sin especificar</td>\n",
              "      <td>Sin especificar</td>\n",
              "      <td>Sin especificar</td>\n",
              "      <td>Sin especificar</td>\n",
              "    </tr>\n",
              "    <tr>\n",
              "      <th>1</th>\n",
              "      <td>Ministerio de Seguridad</td>\n",
              "      <td>1-2017-1</td>\n",
              "      <td>60412.0</td>\n",
              "      <td>José C. Paz</td>\n",
              "      <td>2017-01-01</td>\n",
              "      <td>07:10:00</td>\n",
              "      <td>Diurno</td>\n",
              "      <td>21</td>\n",
              "      <td>Masculino</td>\n",
              "      <td>Conductor</td>\n",
              "      <td>Vehículo</td>\n",
              "      <td>Ruta provincial</td>\n",
              "      <td>Colisión vehículo/Vehículo</td>\n",
              "      <td>Bueno</td>\n",
              "    </tr>\n",
              "    <tr>\n",
              "      <th>2</th>\n",
              "      <td>Ministerio de Seguridad</td>\n",
              "      <td>1-2017-1039</td>\n",
              "      <td>60412.0</td>\n",
              "      <td>José C. Paz</td>\n",
              "      <td>2017-01-01</td>\n",
              "      <td>06:05:00</td>\n",
              "      <td>Nocturno</td>\n",
              "      <td>22</td>\n",
              "      <td>Masculino</td>\n",
              "      <td>Conductor</td>\n",
              "      <td>Motocicleta</td>\n",
              "      <td>Calle</td>\n",
              "      <td>Colisión vehículo/Vehículo</td>\n",
              "      <td>Sin especificar</td>\n",
              "    </tr>\n",
              "    <tr>\n",
              "      <th>3</th>\n",
              "      <td>Ministerio de Seguridad</td>\n",
              "      <td>1-2017-2</td>\n",
              "      <td>60412.0</td>\n",
              "      <td>José C. Paz</td>\n",
              "      <td>2017-01-01</td>\n",
              "      <td>07:10:00</td>\n",
              "      <td>Diurno</td>\n",
              "      <td>42</td>\n",
              "      <td>Masculino</td>\n",
              "      <td>Conductor</td>\n",
              "      <td>Vehículo</td>\n",
              "      <td>Ruta provincial</td>\n",
              "      <td>Colisión vehículo/Vehículo</td>\n",
              "      <td>Bueno</td>\n",
              "    </tr>\n",
              "    <tr>\n",
              "      <th>4</th>\n",
              "      <td>Ministerio de Seguridad</td>\n",
              "      <td>1-2017-592</td>\n",
              "      <td>60098.0</td>\n",
              "      <td>Berisso</td>\n",
              "      <td>2017-01-01</td>\n",
              "      <td>01:40:00</td>\n",
              "      <td>Nocturno</td>\n",
              "      <td>18</td>\n",
              "      <td>Masculino</td>\n",
              "      <td>Conductor</td>\n",
              "      <td>Motocicleta</td>\n",
              "      <td>Calle</td>\n",
              "      <td>Colisión vehículo/Vehículo</td>\n",
              "      <td>Bueno</td>\n",
              "    </tr>\n",
              "  </tbody>\n",
              "</table>\n",
              "</div>\n",
              "      <button class=\"colab-df-convert\" onclick=\"convertToInteractive('df-2b512fdc-181e-4476-a2e6-72c522b5620b')\"\n",
              "              title=\"Convert this dataframe to an interactive table.\"\n",
              "              style=\"display:none;\">\n",
              "        \n",
              "  <svg xmlns=\"http://www.w3.org/2000/svg\" height=\"24px\"viewBox=\"0 0 24 24\"\n",
              "       width=\"24px\">\n",
              "    <path d=\"M0 0h24v24H0V0z\" fill=\"none\"/>\n",
              "    <path d=\"M18.56 5.44l.94 2.06.94-2.06 2.06-.94-2.06-.94-.94-2.06-.94 2.06-2.06.94zm-11 1L8.5 8.5l.94-2.06 2.06-.94-2.06-.94L8.5 2.5l-.94 2.06-2.06.94zm10 10l.94 2.06.94-2.06 2.06-.94-2.06-.94-.94-2.06-.94 2.06-2.06.94z\"/><path d=\"M17.41 7.96l-1.37-1.37c-.4-.4-.92-.59-1.43-.59-.52 0-1.04.2-1.43.59L10.3 9.45l-7.72 7.72c-.78.78-.78 2.05 0 2.83L4 21.41c.39.39.9.59 1.41.59.51 0 1.02-.2 1.41-.59l7.78-7.78 2.81-2.81c.8-.78.8-2.07 0-2.86zM5.41 20L4 18.59l7.72-7.72 1.47 1.35L5.41 20z\"/>\n",
              "  </svg>\n",
              "      </button>\n",
              "      \n",
              "  <style>\n",
              "    .colab-df-container {\n",
              "      display:flex;\n",
              "      flex-wrap:wrap;\n",
              "      gap: 12px;\n",
              "    }\n",
              "\n",
              "    .colab-df-convert {\n",
              "      background-color: #E8F0FE;\n",
              "      border: none;\n",
              "      border-radius: 50%;\n",
              "      cursor: pointer;\n",
              "      display: none;\n",
              "      fill: #1967D2;\n",
              "      height: 32px;\n",
              "      padding: 0 0 0 0;\n",
              "      width: 32px;\n",
              "    }\n",
              "\n",
              "    .colab-df-convert:hover {\n",
              "      background-color: #E2EBFA;\n",
              "      box-shadow: 0px 1px 2px rgba(60, 64, 67, 0.3), 0px 1px 3px 1px rgba(60, 64, 67, 0.15);\n",
              "      fill: #174EA6;\n",
              "    }\n",
              "\n",
              "    [theme=dark] .colab-df-convert {\n",
              "      background-color: #3B4455;\n",
              "      fill: #D2E3FC;\n",
              "    }\n",
              "\n",
              "    [theme=dark] .colab-df-convert:hover {\n",
              "      background-color: #434B5C;\n",
              "      box-shadow: 0px 1px 3px 1px rgba(0, 0, 0, 0.15);\n",
              "      filter: drop-shadow(0px 1px 2px rgba(0, 0, 0, 0.3));\n",
              "      fill: #FFFFFF;\n",
              "    }\n",
              "  </style>\n",
              "\n",
              "      <script>\n",
              "        const buttonEl =\n",
              "          document.querySelector('#df-2b512fdc-181e-4476-a2e6-72c522b5620b button.colab-df-convert');\n",
              "        buttonEl.style.display =\n",
              "          google.colab.kernel.accessAllowed ? 'block' : 'none';\n",
              "\n",
              "        async function convertToInteractive(key) {\n",
              "          const element = document.querySelector('#df-2b512fdc-181e-4476-a2e6-72c522b5620b');\n",
              "          const dataTable =\n",
              "            await google.colab.kernel.invokeFunction('convertToInteractive',\n",
              "                                                     [key], {});\n",
              "          if (!dataTable) return;\n",
              "\n",
              "          const docLinkHtml = 'Like what you see? Visit the ' +\n",
              "            '<a target=\"_blank\" href=https://colab.research.google.com/notebooks/data_table.ipynb>data table notebook</a>'\n",
              "            + ' to learn more about interactive tables.';\n",
              "          element.innerHTML = '';\n",
              "          dataTable['output_type'] = 'display_data';\n",
              "          await google.colab.output.renderOutput(dataTable, element);\n",
              "          const docLink = document.createElement('div');\n",
              "          docLink.innerHTML = docLinkHtml;\n",
              "          element.appendChild(docLink);\n",
              "        }\n",
              "      </script>\n",
              "    </div>\n",
              "  </div>\n",
              "  "
            ],
            "text/plain": [
              "              fuente_datos numero_victima  municipio_id municipio_nombre  \\\n",
              "0    Egresos hospitalarios    2-2017-1293           NaN              NaN   \n",
              "1  Ministerio de Seguridad       1-2017-1       60412.0      José C. Paz   \n",
              "2  Ministerio de Seguridad    1-2017-1039       60412.0      José C. Paz   \n",
              "3  Ministerio de Seguridad       1-2017-2       60412.0      José C. Paz   \n",
              "4  Ministerio de Seguridad     1-2017-592       60098.0          Berisso   \n",
              "\n",
              "  fecha_hecho       hora_hecho    momento_hecho edad       sexo  \\\n",
              "0  2016-12-14  Sin especificar  Sin especificar   75  Masculino   \n",
              "1  2017-01-01         07:10:00           Diurno   21  Masculino   \n",
              "2  2017-01-01         06:05:00         Nocturno   22  Masculino   \n",
              "3  2017-01-01         07:10:00           Diurno   42  Masculino   \n",
              "4  2017-01-01         01:40:00         Nocturno   18  Masculino   \n",
              "\n",
              "     clase_victima vehiculo_victima         tipo_via  \\\n",
              "0  Sin especificar  Sin especificar  Sin especificar   \n",
              "1        Conductor         Vehículo  Ruta provincial   \n",
              "2        Conductor      Motocicleta            Calle   \n",
              "3        Conductor         Vehículo  Ruta provincial   \n",
              "4        Conductor      Motocicleta            Calle   \n",
              "\n",
              "               tipo_incidente            clima  \n",
              "0             Sin especificar  Sin especificar  \n",
              "1  Colisión vehículo/Vehículo            Bueno  \n",
              "2  Colisión vehículo/Vehículo  Sin especificar  \n",
              "3  Colisión vehículo/Vehículo            Bueno  \n",
              "4  Colisión vehículo/Vehículo            Bueno  "
            ]
          },
          "execution_count": 183,
          "metadata": {},
          "output_type": "execute_result"
        }
      ],
      "source": [
        "df.head()"
      ]
    },
    {
      "cell_type": "markdown",
      "metadata": {
        "id": "FNJNYF81LeH3"
      },
      "source": [
        "###Información: datos no nulos y tipo de datos por columna\n",
        "\n"
      ]
    },
    {
      "cell_type": "code",
      "execution_count": null,
      "metadata": {
        "colab": {
          "background_save": true
        },
        "id": "2Qh5IouHeh6E",
        "outputId": "33b32b4c-7f8d-45f1-cf81-58e4b8758468"
      },
      "outputs": [
        {
          "name": "stdout",
          "output_type": "stream",
          "text": [
            "<class 'pandas.core.frame.DataFrame'>\n",
            "RangeIndex: 1369 entries, 0 to 1368\n",
            "Data columns (total 14 columns):\n",
            " #   Column            Non-Null Count  Dtype  \n",
            "---  ------            --------------  -----  \n",
            " 0   fuente_datos      1369 non-null   object \n",
            " 1   numero_victima    1369 non-null   object \n",
            " 2   municipio_id      713 non-null    float64\n",
            " 3   municipio_nombre  713 non-null    object \n",
            " 4   fecha_hecho       1369 non-null   object \n",
            " 5   hora_hecho        1369 non-null   object \n",
            " 6   momento_hecho     1369 non-null   object \n",
            " 7   edad              1369 non-null   object \n",
            " 8   sexo              1369 non-null   object \n",
            " 9   clase_victima     1369 non-null   object \n",
            " 10  vehiculo_victima  1369 non-null   object \n",
            " 11  tipo_via          1369 non-null   object \n",
            " 12  tipo_incidente    1369 non-null   object \n",
            " 13  clima             1369 non-null   object \n",
            "dtypes: float64(1), object(13)\n",
            "memory usage: 149.9+ KB\n"
          ]
        }
      ],
      "source": [
        "df.info()"
      ]
    },
    {
      "cell_type": "markdown",
      "metadata": {
        "id": "sD24qai9NZkm"
      },
      "source": [
        "####Conteo de valores nulos"
      ]
    },
    {
      "cell_type": "code",
      "execution_count": null,
      "metadata": {
        "colab": {
          "background_save": true
        },
        "id": "rciaJ1iFfIOQ",
        "outputId": "7c277833-d33f-441e-bac2-5810ac569a0b"
      },
      "outputs": [
        {
          "data": {
            "text/plain": [
              "fuente_datos          0\n",
              "numero_victima        0\n",
              "municipio_id        656\n",
              "municipio_nombre    656\n",
              "fecha_hecho           0\n",
              "hora_hecho            0\n",
              "momento_hecho         0\n",
              "edad                  0\n",
              "sexo                  0\n",
              "clase_victima         0\n",
              "vehiculo_victima      0\n",
              "tipo_via              0\n",
              "tipo_incidente        0\n",
              "clima                 0\n",
              "dtype: int64"
            ]
          },
          "execution_count": 185,
          "metadata": {},
          "output_type": "execute_result"
        }
      ],
      "source": [
        "df.isna().sum()"
      ]
    },
    {
      "cell_type": "markdown",
      "metadata": {
        "id": "HaMlynjXcaKW"
      },
      "source": [
        "###Transformación de datos"
      ]
    },
    {
      "cell_type": "markdown",
      "metadata": {
        "id": "9v0mR1_Xcj6t"
      },
      "source": [
        "####Tratamiento de valores nulos"
      ]
    },
    {
      "cell_type": "code",
      "execution_count": null,
      "metadata": {
        "id": "9EpMEEkYftrg"
      },
      "outputs": [],
      "source": [
        "#Registros nulos en municipio_nombre\n",
        "#nota: el valor de Nan = Nan es False. Nan no es igual a nada :)\n",
        "\n",
        "dfNAN = df[(df.municipio_nombre != df.municipio_nombre)]\n",
        "dfNAN.head()"
      ]
    },
    {
      "cell_type": "code",
      "execution_count": null,
      "metadata": {
        "id": "GYVToFARyuFo"
      },
      "outputs": [],
      "source": [
        "#también funciona dfNAN2 = df[df.municipio_id.isnull()]\n",
        "dfNAN2 = df[df.municipio_nombre.isna()]\n",
        "dfNAN2.head()"
      ]
    },
    {
      "cell_type": "markdown",
      "metadata": {
        "id": "qr45Zbml76vM"
      },
      "source": [
        "#####Valores nulos en municipio_nombre"
      ]
    },
    {
      "cell_type": "code",
      "execution_count": null,
      "metadata": {
        "id": "pxVKHr1p7HhM"
      },
      "outputs": [],
      "source": [
        "#Reemplazo de nulos por valor \"Otros\"\n",
        "df.municipio_nombre.fillna('Otros', inplace=True)"
      ]
    },
    {
      "cell_type": "markdown",
      "metadata": {
        "id": "g6RnioER8lAm"
      },
      "source": [
        "####Eliminación de columnas: numero_victima, municipio_id"
      ]
    },
    {
      "cell_type": "code",
      "execution_count": null,
      "metadata": {
        "id": "1pHHg9bm87ws"
      },
      "outputs": [],
      "source": [
        "df.drop(['numero_victima', 'municipio_id', 'hora_hecho'], axis=1, inplace=True)"
      ]
    },
    {
      "cell_type": "markdown",
      "metadata": {
        "id": "kS6HGTQZOB_2"
      },
      "source": [
        "###Corrección del tipo de datos por columna"
      ]
    },
    {
      "cell_type": "code",
      "execution_count": null,
      "metadata": {
        "id": "mZyTVxLr0Qjo"
      },
      "outputs": [],
      "source": [
        "df['fuente_datos'] = df['fuente_datos'].astype(\"string\", copy=False)\n",
        "df['municipio_nombre'] = df['municipio_nombre'].astype(\"string\", copy=False)\n",
        "df['momento_hecho'] = df['momento_hecho'].astype(\"string\", copy=False)\n",
        "df['sexo'] = df['sexo'].astype(\"string\", copy=False)\n",
        "df['clase_victima'] = df['clase_victima'].astype(\"string\", copy=False)\n",
        "df['vehiculo_victima'] = df['vehiculo_victima'].astype(\"string\", copy=False)\n",
        "df['tipo_via'] = df['tipo_via'].astype(\"string\", copy=False)\n",
        "df['tipo_incidente'] = df['tipo_incidente'].astype(\"string\", copy=False)\n",
        "df['clima'] = df['clima'].astype(\"string\", copy=False)\n",
        "\n",
        "df['fecha_hecho'] = pd.to_datetime(df['fecha_hecho'], format='%Y-%m-%d')\n",
        "\n",
        "#pd.to_datetime(df['hora_hecho'], format='%H:%M:%S', errors='coerce')\n",
        "#df['edad'] = df['edad'].astype(int, copy=False)\n",
        "\n",
        "df.dtypes"
      ]
    },
    {
      "cell_type": "markdown",
      "metadata": {
        "id": "czW6Y_cj0Ao1"
      },
      "source": [
        "##Análisis gráfico"
      ]
    },
    {
      "cell_type": "markdown",
      "metadata": {
        "id": "jORVI0VEzTWF"
      },
      "source": [
        "###Univariado"
      ]
    },
    {
      "cell_type": "code",
      "execution_count": null,
      "metadata": {
        "id": "X__YH3El0Gsk"
      },
      "outputs": [],
      "source": [
        "F_muni = df[df['municipio_nombre'] != \"Otros\"]\n",
        "sns.catplot(data = F_muni, y=\"municipio_nombre\", kind=\"count\", aspect=3).set(title=\"Decesos por municipio (exceptuada la categoría Otros)\", xlabel=\"Decesos\", ylabel=\"\")\n",
        "plt.show()"
      ]
    },
    {
      "cell_type": "code",
      "execution_count": null,
      "metadata": {
        "id": "8mD015kCSh7e"
      },
      "outputs": [],
      "source": [
        "F_edad = df[df.edad != \"Sin especificar\"]['edad'].astype(int).sort_values()\n",
        "sns.displot(x=F_edad, kind=\"hist\", bins=20, aspect=2).set(title=\"Decesos totales por edad\", xlabel=\"Edad\", ylabel=\"\")\n",
        "\n",
        "plt.show()"
      ]
    }
  ],
  "metadata": {
    "colab": {
      "provenance": [],
      "mount_file_id": "1cCrYgv8TDRMswxpGgbovqtHnVxOI31mm",
      "authorship_tag": "ABX9TyPLuuR3KqW5k4AnPcktrPlv",
      "include_colab_link": true
    },
    "kernelspec": {
      "display_name": "Python 3",
      "name": "python3"
    },
    "language_info": {
      "name": "python"
    }
  },
  "nbformat": 4,
  "nbformat_minor": 0
}